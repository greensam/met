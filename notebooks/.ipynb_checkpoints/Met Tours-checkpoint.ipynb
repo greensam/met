{
 "cells": [
  {
   "cell_type": "code",
   "execution_count": 1,
   "id": "46f603b4-a486-4805-be2a-ec7da3cfd637",
   "metadata": {},
   "outputs": [],
   "source": [
    "import pandas as pd\n",
    "import numpy as np\n",
    "import matplotlib.pyplot as plt\n",
    "import seaborn as sns\n",
    "import requests\n",
    "import time"
   ]
  },
  {
   "cell_type": "code",
   "execution_count": 2,
   "id": "cb2d35dd-24b3-46e3-9dda-9c5472d8a498",
   "metadata": {},
   "outputs": [],
   "source": [
    "api_endpoint = \"https://collectionapi.metmuseum.org/public/collection/v1/objects\""
   ]
  },
  {
   "cell_type": "code",
   "execution_count": 3,
   "id": "4f5cb0f2-d823-4de1-8d14-a1489be8e0fe",
   "metadata": {},
   "outputs": [],
   "source": [
    "params = {\n",
    "        \"departmentIds\": 1,  # American Wing department ID\n",
    "        \"isOnView\": True,\n",
    "        \"hasImages\": True,\n",
    "        \"artistGender\":\"Female\",\n",
    "        \"q\": \"American\"\n",
    "    }"
   ]
  },
  {
   "cell_type": "code",
   "execution_count": 4,
   "id": "e4a52ee4-e8a2-4fa9-9769-a710b506ec76",
   "metadata": {},
   "outputs": [],
   "source": [
    "response = requests.get(api_endpoint, params)"
   ]
  },
  {
   "cell_type": "code",
   "execution_count": 5,
   "id": "24e2b302-7fc9-4479-8d47-da4b2a0b7e3a",
   "metadata": {},
   "outputs": [],
   "source": [
    "response_data = response.json()"
   ]
  },
  {
   "cell_type": "code",
   "execution_count": 6,
   "id": "beda3c4c-51e0-45b1-a34c-9a12702faf42",
   "metadata": {},
   "outputs": [
    {
     "data": {
      "text/plain": [
       "18558"
      ]
     },
     "execution_count": 6,
     "metadata": {},
     "output_type": "execute_result"
    }
   ],
   "source": [
    "count = response_data['total']\n",
    "count"
   ]
  },
  {
   "cell_type": "code",
   "execution_count": 7,
   "id": "d398fe4c-e3de-40d7-8e9a-49c701c0bec7",
   "metadata": {},
   "outputs": [
    {
     "data": {
      "text/plain": [
       "dict_keys(['total', 'objectIDs'])"
      ]
     },
     "execution_count": 7,
     "metadata": {},
     "output_type": "execute_result"
    }
   ],
   "source": [
    "response_data.keys()"
   ]
  },
  {
   "cell_type": "code",
   "execution_count": 8,
   "id": "77e808e5-8ed8-46ca-940b-525569b1ecfc",
   "metadata": {},
   "outputs": [],
   "source": [
    "all_ids = pd.Series((response_data['objectIDs']))\n",
    "groups = pd.Series(np.floor(all_ids.index.get_level_values(0) / 80))"
   ]
  },
  {
   "cell_type": "code",
   "execution_count": 9,
   "id": "e317f928-fcba-44da-99c3-39d9962ff563",
   "metadata": {},
   "outputs": [],
   "source": [
    "id_df = pd.concat([all_ids, groups], axis = 1)\n",
    "id_df.columns = ['objectID','group']"
   ]
  },
  {
   "cell_type": "code",
   "execution_count": 10,
   "id": "48194d8a-3f32-43f7-a948-940816fe4e7a",
   "metadata": {},
   "outputs": [],
   "source": [
    "groups = id_df.groupby('group')"
   ]
  },
  {
   "cell_type": "code",
   "execution_count": 11,
   "id": "37334f68-f700-4570-89cb-96a777778a3e",
   "metadata": {},
   "outputs": [],
   "source": [
    "data = []"
   ]
  },
  {
   "cell_type": "code",
   "execution_count": 12,
   "id": "a8e6efba-0b8f-421f-9d1f-a0564c150bf4",
   "metadata": {},
   "outputs": [],
   "source": [
    "from tqdm import tqdm"
   ]
  },
  {
   "cell_type": "code",
   "execution_count": 13,
   "id": "0a0169eb-facc-491c-9ef2-b7ca9e3ceba0",
   "metadata": {},
   "outputs": [
    {
     "name": "stderr",
     "output_type": "stream",
     "text": [
      "100%|██████████| 232/232 [19:40<00:00,  5.09s/it]\n"
     ]
    }
   ],
   "source": [
    "for i,group in tqdm(groups):\n",
    "    new_data = [requests.get('{}/{}'.format(api_endpoint, oid)).json() for oid in group['objectID']]\n",
    "    data.append(new_data)\n",
    "    time.sleep(0.25)    "
   ]
  },
  {
   "cell_type": "code",
   "execution_count": 14,
   "id": "8a09e371-9239-4c5c-970b-3aa4c4ea661c",
   "metadata": {},
   "outputs": [],
   "source": [
    "data_cleaned = np.concatenate(data).tolist()"
   ]
  },
  {
   "cell_type": "code",
   "execution_count": 15,
   "id": "5fb96e05-c666-4c14-8bc4-ac34d12c23dc",
   "metadata": {},
   "outputs": [],
   "source": [
    "cleaned_df = pd.DataFrame(data_cleaned)"
   ]
  },
  {
   "cell_type": "code",
   "execution_count": 16,
   "id": "6fcee58c-d884-4d0d-99e1-3d9eeed59e84",
   "metadata": {},
   "outputs": [],
   "source": [
    "cleaned_df.to_csv('american_wing.csv', header = True)"
   ]
  },
  {
   "cell_type": "code",
   "execution_count": 20,
   "id": "291958fa-dbad-4b81-bc39-cd6c34542b26",
   "metadata": {},
   "outputs": [],
   "source": [
    "cleaned_df.to_pickle('american_wing.pkl')"
   ]
  },
  {
   "cell_type": "code",
   "execution_count": 22,
   "id": "f984718d-1106-4e92-b6da-e408c514e222",
   "metadata": {},
   "outputs": [],
   "source": [
    "df_in = pd.read_pickle('american_wing.pkl')"
   ]
  },
  {
   "cell_type": "code",
   "execution_count": 24,
   "id": "ca6ac1c5-e42e-4ed4-ab7f-fd4b2f16d1a6",
   "metadata": {},
   "outputs": [
    {
     "data": {
      "text/plain": [
       "(18558, 57)"
      ]
     },
     "execution_count": 24,
     "metadata": {},
     "output_type": "execute_result"
    }
   ],
   "source": [
    "df_in.shape"
   ]
  },
  {
   "cell_type": "code",
   "execution_count": 26,
   "id": "4fcb3f39-d04d-4f20-98a8-bc2d2cc93ced",
   "metadata": {},
   "outputs": [
    {
     "data": {
      "text/plain": [
       "Index(['objectID', 'isHighlight', 'accessionNumber', 'accessionYear',\n",
       "       'isPublicDomain', 'primaryImage', 'primaryImageSmall',\n",
       "       'additionalImages', 'constituents', 'department', 'objectName', 'title',\n",
       "       'culture', 'period', 'dynasty', 'reign', 'portfolio', 'artistRole',\n",
       "       'artistPrefix', 'artistDisplayName', 'artistDisplayBio', 'artistSuffix',\n",
       "       'artistAlphaSort', 'artistNationality', 'artistBeginDate',\n",
       "       'artistEndDate', 'artistGender', 'artistWikidata_URL', 'artistULAN_URL',\n",
       "       'objectDate', 'objectBeginDate', 'objectEndDate', 'medium',\n",
       "       'dimensions', 'measurements', 'creditLine', 'geographyType', 'city',\n",
       "       'state', 'county', 'country', 'region', 'subregion', 'locale', 'locus',\n",
       "       'excavation', 'river', 'classification', 'rightsAndReproduction',\n",
       "       'linkResource', 'metadataDate', 'repository', 'objectURL', 'tags',\n",
       "       'objectWikidata_URL', 'isTimelineWork', 'GalleryNumber'],\n",
       "      dtype='object')"
      ]
     },
     "execution_count": 26,
     "metadata": {},
     "output_type": "execute_result"
    }
   ],
   "source": [
    "df_in.columns"
   ]
  },
  {
   "cell_type": "code",
   "execution_count": 33,
   "id": "27d70d7c-80e1-407a-9118-0f5aac7e119d",
   "metadata": {},
   "outputs": [
    {
     "data": {
      "text/plain": [
       "isHighlight\n",
       "False    18124\n",
       "True       434\n",
       "Name: count, dtype: int64"
      ]
     },
     "execution_count": 33,
     "metadata": {},
     "output_type": "execute_result"
    }
   ],
   "source": [
    "highlight_count = df_in['isHighlight'].value_counts()\n",
    "highlight_count"
   ]
  },
  {
   "cell_type": "code",
   "execution_count": 37,
   "id": "cadcefb4-06b2-437b-bcda-18d0e7692e0f",
   "metadata": {},
   "outputs": [
    {
     "data": {
      "text/plain": [
       "(434, 57)"
      ]
     },
     "execution_count": 37,
     "metadata": {},
     "output_type": "execute_result"
    }
   ],
   "source": [
    "highlights  = df_in.loc[df_in['isHighlight']]\n",
    "highlights.shape"
   ]
  },
  {
   "cell_type": "code",
   "execution_count": 39,
   "id": "f42b7559-a32d-43c5-b45b-cb9f1a816aaf",
   "metadata": {},
   "outputs": [
    {
     "data": {
      "text/html": [
       "<div>\n",
       "<style scoped>\n",
       "    .dataframe tbody tr th:only-of-type {\n",
       "        vertical-align: middle;\n",
       "    }\n",
       "\n",
       "    .dataframe tbody tr th {\n",
       "        vertical-align: top;\n",
       "    }\n",
       "\n",
       "    .dataframe thead th {\n",
       "        text-align: right;\n",
       "    }\n",
       "</style>\n",
       "<table border=\"1\" class=\"dataframe\">\n",
       "  <thead>\n",
       "    <tr style=\"text-align: right;\">\n",
       "      <th></th>\n",
       "      <th>objectID</th>\n",
       "      <th>isHighlight</th>\n",
       "      <th>accessionNumber</th>\n",
       "      <th>accessionYear</th>\n",
       "      <th>isPublicDomain</th>\n",
       "      <th>primaryImage</th>\n",
       "      <th>primaryImageSmall</th>\n",
       "      <th>additionalImages</th>\n",
       "      <th>constituents</th>\n",
       "      <th>department</th>\n",
       "      <th>...</th>\n",
       "      <th>classification</th>\n",
       "      <th>rightsAndReproduction</th>\n",
       "      <th>linkResource</th>\n",
       "      <th>metadataDate</th>\n",
       "      <th>repository</th>\n",
       "      <th>objectURL</th>\n",
       "      <th>tags</th>\n",
       "      <th>objectWikidata_URL</th>\n",
       "      <th>isTimelineWork</th>\n",
       "      <th>GalleryNumber</th>\n",
       "    </tr>\n",
       "    <tr>\n",
       "      <th>artistGender</th>\n",
       "      <th></th>\n",
       "      <th></th>\n",
       "      <th></th>\n",
       "      <th></th>\n",
       "      <th></th>\n",
       "      <th></th>\n",
       "      <th></th>\n",
       "      <th></th>\n",
       "      <th></th>\n",
       "      <th></th>\n",
       "      <th></th>\n",
       "      <th></th>\n",
       "      <th></th>\n",
       "      <th></th>\n",
       "      <th></th>\n",
       "      <th></th>\n",
       "      <th></th>\n",
       "      <th></th>\n",
       "      <th></th>\n",
       "      <th></th>\n",
       "      <th></th>\n",
       "    </tr>\n",
       "  </thead>\n",
       "  <tbody>\n",
       "    <tr>\n",
       "      <th></th>\n",
       "      <td>0.889401</td>\n",
       "      <td>0.889401</td>\n",
       "      <td>0.889401</td>\n",
       "      <td>0.889401</td>\n",
       "      <td>0.889401</td>\n",
       "      <td>0.889401</td>\n",
       "      <td>0.889401</td>\n",
       "      <td>0.889401</td>\n",
       "      <td>0.746544</td>\n",
       "      <td>0.889401</td>\n",
       "      <td>...</td>\n",
       "      <td>0.889401</td>\n",
       "      <td>0.889401</td>\n",
       "      <td>0.889401</td>\n",
       "      <td>0.889401</td>\n",
       "      <td>0.889401</td>\n",
       "      <td>0.889401</td>\n",
       "      <td>0.612903</td>\n",
       "      <td>0.889401</td>\n",
       "      <td>0.889401</td>\n",
       "      <td>0.889401</td>\n",
       "    </tr>\n",
       "    <tr>\n",
       "      <th>Female</th>\n",
       "      <td>0.110599</td>\n",
       "      <td>0.110599</td>\n",
       "      <td>0.110599</td>\n",
       "      <td>0.110599</td>\n",
       "      <td>0.110599</td>\n",
       "      <td>0.110599</td>\n",
       "      <td>0.110599</td>\n",
       "      <td>0.110599</td>\n",
       "      <td>0.110599</td>\n",
       "      <td>0.110599</td>\n",
       "      <td>...</td>\n",
       "      <td>0.110599</td>\n",
       "      <td>0.110599</td>\n",
       "      <td>0.110599</td>\n",
       "      <td>0.110599</td>\n",
       "      <td>0.110599</td>\n",
       "      <td>0.110599</td>\n",
       "      <td>0.087558</td>\n",
       "      <td>0.110599</td>\n",
       "      <td>0.110599</td>\n",
       "      <td>0.110599</td>\n",
       "    </tr>\n",
       "  </tbody>\n",
       "</table>\n",
       "<p>2 rows × 56 columns</p>\n",
       "</div>"
      ],
      "text/plain": [
       "              objectID  isHighlight  accessionNumber  accessionYear  \\\n",
       "artistGender                                                          \n",
       "              0.889401     0.889401         0.889401       0.889401   \n",
       "Female        0.110599     0.110599         0.110599       0.110599   \n",
       "\n",
       "              isPublicDomain  primaryImage  primaryImageSmall  \\\n",
       "artistGender                                                    \n",
       "                    0.889401      0.889401           0.889401   \n",
       "Female              0.110599      0.110599           0.110599   \n",
       "\n",
       "              additionalImages  constituents  department  ...  classification  \\\n",
       "artistGender                                              ...                   \n",
       "                      0.889401      0.746544    0.889401  ...        0.889401   \n",
       "Female                0.110599      0.110599    0.110599  ...        0.110599   \n",
       "\n",
       "              rightsAndReproduction  linkResource  metadataDate  repository  \\\n",
       "artistGender                                                                  \n",
       "                           0.889401      0.889401      0.889401    0.889401   \n",
       "Female                     0.110599      0.110599      0.110599    0.110599   \n",
       "\n",
       "              objectURL      tags  objectWikidata_URL  isTimelineWork  \\\n",
       "artistGender                                                            \n",
       "               0.889401  0.612903            0.889401        0.889401   \n",
       "Female         0.110599  0.087558            0.110599        0.110599   \n",
       "\n",
       "              GalleryNumber  \n",
       "artistGender                 \n",
       "                   0.889401  \n",
       "Female             0.110599  \n",
       "\n",
       "[2 rows x 56 columns]"
      ]
     },
     "execution_count": 39,
     "metadata": {},
     "output_type": "execute_result"
    }
   ],
   "source": [
    "highlights.groupby('artistGender').count() / highlight_count[True]"
   ]
  },
  {
   "cell_type": "code",
   "execution_count": 42,
   "id": "f7f417f3-d430-4f95-885e-1fbbda36a641",
   "metadata": {},
   "outputs": [],
   "source": [
    "non_highlights = df_in.loc[df_in['isHighlight'] == False]"
   ]
  },
  {
   "cell_type": "code",
   "execution_count": 44,
   "id": "ccf5d9ff-7a64-4147-a218-3066e17880be",
   "metadata": {},
   "outputs": [
    {
     "data": {
      "text/plain": [
       "artistGender\n",
       "          0.966343\n",
       "Female    0.033657\n",
       "Name: count, dtype: float64"
      ]
     },
     "execution_count": 44,
     "metadata": {},
     "output_type": "execute_result"
    }
   ],
   "source": [
    "non_highlights['artistGender'].value_counts() / non_highlights['artistGender'].count()"
   ]
  },
  {
   "cell_type": "code",
   "execution_count": null,
   "id": "f7907643-5506-442b-b4bf-66f5829946c1",
   "metadata": {},
   "outputs": [],
   "source": []
  }
 ],
 "metadata": {
  "kernelspec": {
   "display_name": "Python 3 (ipykernel)",
   "language": "python",
   "name": "python3"
  },
  "language_info": {
   "codemirror_mode": {
    "name": "ipython",
    "version": 3
   },
   "file_extension": ".py",
   "mimetype": "text/x-python",
   "name": "python",
   "nbconvert_exporter": "python",
   "pygments_lexer": "ipython3",
   "version": "3.10.13"
  }
 },
 "nbformat": 4,
 "nbformat_minor": 5
}
